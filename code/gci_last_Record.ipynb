{
 "cells": [
  {
   "cell_type": "markdown",
   "metadata": {},
   "source": [
    "SQL形式のデータからClient.csvとRecord.csvを抽出する"
   ]
  },
  {
   "cell_type": "code",
   "execution_count": null,
   "metadata": {
    "colab": {
     "base_uri": "https://localhost:8080/"
    },
    "executionInfo": {
     "elapsed": 364379,
     "status": "ok",
     "timestamp": 1676722395170,
     "user": {
      "displayName": "Yoshiki",
      "userId": "06793121807263079380"
     },
     "user_tz": -540
    },
    "id": "KZZ1Zgd71ubf",
    "outputId": "99c9985c-9a36-43b1-eeda-7eed36496097"
   },
   "outputs": [],
   "source": [
    "import sqlite3\n",
    "import csv\n",
    "\n",
    "from google.colab import drive\n",
    "drive.mount('/content/drive')\n",
    "\n",
    "dbpath = '/' \n",
    "# データベースのパスを指定するように適宜変更する\n",
    "\n",
    "conn = sqlite3.connect(dbpath)\n",
    "\n",
    "# カーソルの取得\n",
    "cur = conn.cursor()\n",
    "\n",
    "# テーブル名の確認\n",
    "cur.execute('select name from sqlite_master where type = \"table\"')\n",
    "for row in cur.fetchall():\n",
    "  print(row)\n",
    "\n",
    "# Clientテーブルから全データを取得\n",
    "cur.execute('select * from Client')\n",
    "with open('Client.csv','w',newline = '') as csv_file:\n",
    "  csv_writer = csv.writer(csv_file)\n",
    "  csv_writer.writerow([i[0] for i in cur.description])\n",
    "  csv_writer.writerows(cur)\n",
    "\n",
    "# Recordテーブルから全データを取得\n",
    "cur.execute('select * from Record')\n",
    "with open('Record.csv','w',newline = '') as csv_file:\n",
    "  csv_writer = csv.writer(csv_file)\n",
    "  csv_writer.writerow([i[0] for i in cur.description])\n",
    "  csv_writer.writerows(cur)\n",
    "\n",
    "# 処理の確定\n",
    "conn.commit()\n",
    "\n",
    "# カーソルを閉じる\n",
    "cur.close()\n",
    "\n",
    "# 接続を閉じる\n",
    "conn.close()"
   ]
  },
  {
   "cell_type": "markdown",
   "metadata": {},
   "source": [
    "ライブラリとデータセットを導入する"
   ]
  },
  {
   "cell_type": "code",
   "execution_count": null,
   "metadata": {
    "colab": {
     "base_uri": "https://localhost:8080/"
    },
    "executionInfo": {
     "elapsed": 4203,
     "status": "ok",
     "timestamp": 1676723236349,
     "user": {
      "displayName": "Yoshiki",
      "userId": "06793121807263079380"
     },
     "user_tz": -540
    },
    "id": "C8rrHnO764CS",
    "outputId": "3e9020ce-5d73-4acf-a85c-7f2170279950"
   },
   "outputs": [],
   "source": [
    "import numpy as np\n",
    "import pandas as pd\n",
    "from pandas import DataFrame, Series\n",
    "import matplotlib.pyplot as plt\n",
    "import seaborn as sns\n",
    "\n",
    "Client = pd.read_csv(\"/content/Client.csv\")\n",
    "Record = pd.read_csv(\"/content/Record.csv\")\n",
    "\n",
    "from google.colab import drive\n",
    "drive.mount('/content/drive')\n",
    "\n",
    "print('データのデータ数は{}、変数は{}種類です。'.format(Client.shape[0], Client.shape[1]))\n",
    "print('データのデータ数は{}、変数は{}種類です。'.format(Record.shape[0], Record.shape[1]))"
   ]
  },
  {
   "cell_type": "markdown",
   "metadata": {},
   "source": [
    "データセットの確認を行う"
   ]
  },
  {
   "cell_type": "code",
   "execution_count": null,
   "metadata": {
    "id": "MISqH-db9_ps"
   },
   "outputs": [],
   "source": [
    "print(Client.info())"
   ]
  },
  {
   "cell_type": "code",
   "execution_count": null,
   "metadata": {
    "id": "mW9_fQwo-HTg"
   },
   "outputs": [],
   "source": [
    "print(Record.info())"
   ]
  },
  {
   "cell_type": "code",
   "execution_count": null,
   "metadata": {
    "id": "sOL0vXZABc4C"
   },
   "outputs": [],
   "source": [
    "Client.head()"
   ]
  },
  {
   "cell_type": "code",
   "execution_count": null,
   "metadata": {
    "id": "HTj0mDu4Cq_r"
   },
   "outputs": [],
   "source": [
    "Record.head()"
   ]
  },
  {
   "cell_type": "markdown",
   "metadata": {},
   "source": [
    "欠損値の確認と補完を行う"
   ]
  },
  {
   "cell_type": "code",
   "execution_count": null,
   "metadata": {
    "id": "N0xS40xHCu_x"
   },
   "outputs": [],
   "source": [
    "Client.isnull().sum()"
   ]
  },
  {
   "cell_type": "code",
   "execution_count": null,
   "metadata": {
    "id": "wBwSUme-C23M"
   },
   "outputs": [],
   "source": [
    "Record.isnull().sum()"
   ]
  },
  {
   "cell_type": "code",
   "execution_count": null,
   "metadata": {
    "id": "oy5Dzk0RI7JQ"
   },
   "outputs": [],
   "source": [
    "# Recordの欠損値を平均値で補完\n",
    "Record[\"rev_Mean\"].fillna(Record[\"rev_Mean\"].mean(), inplace=True)\n",
    "Record[\"mou_Mean\"].fillna(Record[\"mou_Mean\"].mean(), inplace=True)\n",
    "Record[\"totmrc_Mean\"].fillna(Record[\"totmrc_Mean\"].mean(), inplace=True)\n",
    "Record[\"da_Mean\"].fillna(Record[\"da_Mean\"].mean(), inplace=True)\n",
    "Record[\"ovrmou_Mean\"].fillna(Record[\"ovrmou_Mean\"].mean(), inplace=True)\n",
    "Record[\"ovrrev_Mean\"].fillna(Record[\"ovrrev_Mean\"].mean(), inplace=True)\n",
    "Record[\"vceovr_Mean\"].fillna(Record[\"vceovr_Mean\"].mean(), inplace=True)\n",
    "Record[\"datovr_Mean\"].fillna(Record[\"datovr_Mean\"].mean(), inplace=True)\n",
    "Record[\"roam_Mean\"].fillna(Record[\"roam_Mean\"].mean(), inplace=True)\n",
    "Record[\"change_mou\"].fillna(Record[\"change_mou\"].mean(), inplace=True)\n",
    "Record[\"change_rev\"].fillna(Record[\"change_rev\"].mean(), inplace=True)"
   ]
  },
  {
   "cell_type": "code",
   "execution_count": null,
   "metadata": {
    "id": "RIyI8xetVZo6"
   },
   "outputs": [],
   "source": [
    "Record.isnull().sum()"
   ]
  },
  {
   "cell_type": "markdown",
   "metadata": {},
   "source": [
    "各変数の可視化を行う"
   ]
  },
  {
   "cell_type": "code",
   "execution_count": null,
   "metadata": {
    "colab": {
     "base_uri": "https://localhost:8080/"
    },
    "executionInfo": {
     "elapsed": 270,
     "status": "ok",
     "timestamp": 1674722471134,
     "user": {
      "displayName": "Yoshiki",
      "userId": "06793121807263079380"
     },
     "user_tz": -540
    },
    "id": "A6qZcKHZ-zBW",
    "outputId": "5adf3332-6477-4007-bd6c-ecb3e0278690"
   },
   "outputs": [],
   "source": [
    "Record['rev_Mean'].sum()"
   ]
  },
  {
   "cell_type": "code",
   "execution_count": null,
   "metadata": {
    "colab": {
     "base_uri": "https://localhost:8080/",
     "height": 569
    },
    "executionInfo": {
     "elapsed": 469,
     "status": "ok",
     "timestamp": 1674730841933,
     "user": {
      "displayName": "Yoshiki",
      "userId": "06793121807263079380"
     },
     "user_tz": -540
    },
    "id": "F_dglPXnDj6s",
    "outputId": "eef7ca34-32f3-40cc-be40-cfa5724404a7"
   },
   "outputs": [],
   "source": [
    "f,ax=plt.subplots(1,2,figsize=(18,8))\n",
    "Record['churn'].value_counts().plot.pie(explode=[0,0.1],autopct='%1.1f%%',ax=ax[0],shadow=True)\n",
    "ax[0].set_title('churn')\n",
    "ax[0].set_ylabel('')\n",
    "sns.countplot('churn',data=Record,ax=ax[1])\n",
    "ax[1].set_title('churn')\n",
    "plt.show()"
   ]
  },
  {
   "cell_type": "code",
   "execution_count": null,
   "metadata": {
    "colab": {
     "base_uri": "https://localhost:8080/",
     "height": 484
    },
    "executionInfo": {
     "elapsed": 867,
     "status": "ok",
     "timestamp": 1674736554200,
     "user": {
      "displayName": "Yoshiki",
      "userId": "06793121807263079380"
     },
     "user_tz": -540
    },
    "id": "uexjd9fQ3z_O",
    "outputId": "e8dd7f54-4c0f-4be8-cf9f-f6b305b0c7cd"
   },
   "outputs": [],
   "source": [
    "f,ax=plt.subplots(1,1,figsize=(18,8))\n",
    "Labels=['','']\n",
    "Record['churn'].value_counts().plot.pie(explode=[0,0.1],labels=Labels,shadow=True)\n",
    "plt.title('')\n",
    "plt.ylabel('')"
   ]
  },
  {
   "cell_type": "code",
   "execution_count": null,
   "metadata": {
    "id": "NnvygYgYvLht"
   },
   "outputs": [],
   "source": [
    "pip install japanize-matplotlib"
   ]
  },
  {
   "cell_type": "code",
   "execution_count": null,
   "metadata": {
    "colab": {
     "base_uri": "https://localhost:8080/"
    },
    "executionInfo": {
     "elapsed": 316,
     "status": "ok",
     "timestamp": 1674732743992,
     "user": {
      "displayName": "Yoshiki",
      "userId": "06793121807263079380"
     },
     "user_tz": -540
    },
    "id": "2NJOEtja2Zwp",
    "outputId": "13be4e83-3783-477a-8b4d-abd1c9fff67e"
   },
   "outputs": [],
   "source": [
    "Record['churn'].value_counts()"
   ]
  },
  {
   "cell_type": "code",
   "execution_count": null,
   "metadata": {
    "colab": {
     "base_uri": "https://localhost:8080/",
     "height": 281
    },
    "executionInfo": {
     "elapsed": 48,
     "status": "ok",
     "timestamp": 1674732946982,
     "user": {
      "displayName": "Yoshiki",
      "userId": "06793121807263079380"
     },
     "user_tz": -540
    },
    "id": "dqih4xJoxfGC",
    "outputId": "21bcc8b0-1933-4b45-d2b5-4ff8695c2623"
   },
   "outputs": [],
   "source": [
    "import japanize_matplotlib\n",
    "\n",
    "x = [50438, 49562]\n",
    "Labels = ['非解約者', '解約者']\n",
    "plt.pie(x, labels=Labels, startangle=90, counterclock=False, autopct='%1.1f%%', shadow=True)\n",
    "plt.title('解約したかどうか')"
   ]
  },
  {
   "cell_type": "markdown",
   "metadata": {},
   "source": [
    "LightGBM"
   ]
  },
  {
   "cell_type": "code",
   "execution_count": null,
   "metadata": {
    "id": "oFoRAwACaNZy"
   },
   "outputs": [],
   "source": [
    "from sklearn.model_selection import train_test_split\n",
    "import lightgbm as lgb"
   ]
  },
  {
   "cell_type": "code",
   "execution_count": null,
   "metadata": {
    "id": "NS0Kv0UiaSGG"
   },
   "outputs": [],
   "source": [
    "X = Record.drop('churn',axis=1) \n",
    "y = Record['churn'] # 目的変数\n",
    "# トレーニングデータ,テストデータの分割\n",
    "X_train, X_valid, y_train, y_valid = train_test_split(X, y,test_size=0.2, random_state=0)"
   ]
  },
  {
   "cell_type": "code",
   "execution_count": null,
   "metadata": {
    "id": "IBmteCI962jt"
   },
   "outputs": [],
   "source": [
    "# 学習に使用するデータを設定\n",
    "lgb_train = lgb.Dataset(X_train, y_train)\n",
    "lgb_eval = lgb.Dataset(X_valid, y_valid, reference=lgb_train) \n",
    "\n",
    "# パラメータ\n",
    "params = {\n",
    "        'task': 'train',\n",
    "        'boosting_type': 'gbdt',\n",
    "        'objective': 'binary', # 目的 : 分類\n",
    "        'metric': {'auc'},\n",
    "         'num_leaves': 20,             \n",
    "        'max_depth':5,\n",
    "        'min_data_in_leaf': 3,        \n",
    "        'num_iteration': 100,            \n",
    "        'learning_rate':0.03,\n",
    "        'num_boost_round':100,\n",
    "         'early_stopping_rounds':20, \n",
    "}\n",
    "\n",
    "# モデルの学習\n",
    "model = lgb.train(params,\n",
    "                  train_set=lgb_train, # トレーニングデータの指定\n",
    "                  valid_sets=lgb_eval, # 検証データの指定\n",
    "                  )\n",
    "\n",
    "# テストデータの予測\n",
    "y_pred = model.predict(X_valid)"
   ]
  },
  {
   "cell_type": "code",
   "execution_count": null,
   "metadata": {
    "id": "HjEBMfM269xd"
   },
   "outputs": [],
   "source": [
    "lgb.plot_importance(model, height=0.5, figsize=(30,40))"
   ]
  },
  {
   "cell_type": "markdown",
   "metadata": {},
   "source": [
    "解約率に影響を与えると考えられる変数を探索する"
   ]
  },
  {
   "cell_type": "code",
   "execution_count": null,
   "metadata": {
    "id": "0yMZQLaZ7CmR"
   },
   "outputs": [],
   "source": [
    "Record.groupby([\"churn\"])[\"change_mou\"].mean()"
   ]
  },
  {
   "cell_type": "code",
   "execution_count": null,
   "metadata": {
    "id": "w7dZ6LZdiMS1"
   },
   "outputs": [],
   "source": [
    "Record.groupby([\"churn\"])[\"change_mou\"].median()"
   ]
  },
  {
   "cell_type": "code",
   "execution_count": null,
   "metadata": {
    "id": "b6lyRZr4IySL"
   },
   "outputs": [],
   "source": [
    "sns.barplot(x='churn', y='change_mou', data=Record, estimator=np.median)"
   ]
  },
  {
   "cell_type": "code",
   "execution_count": null,
   "metadata": {
    "id": "5WxObHgmJATD"
   },
   "outputs": [],
   "source": [
    "Record.groupby('churn')['change_mou'].plot.hist(bins=20, alpha=0.5, legend=True)"
   ]
  },
  {
   "cell_type": "code",
   "execution_count": null,
   "metadata": {
    "colab": {
     "base_uri": "https://localhost:8080/"
    },
    "executionInfo": {
     "elapsed": 724,
     "status": "ok",
     "timestamp": 1674657289771,
     "user": {
      "displayName": "Yoshiki",
      "userId": "06793121807263079380"
     },
     "user_tz": -540
    },
    "id": "A5RZ3WI3Jnax",
    "outputId": "54d394de-384d-4090-9d94-40bbfb179aab"
   },
   "outputs": [],
   "source": [
    "from scipy import stats\n",
    "s, pvalue = stats.mannwhitneyu(Record[Record[\"churn\"]==1][\"change_mou\"]\n",
    "                , Record[Record[\"churn\"]==0][\"change_mou\"]\n",
    "                ,alternative='two-sided')\n",
    "pvalue < 0.05"
   ]
  },
  {
   "cell_type": "code",
   "execution_count": null,
   "metadata": {
    "id": "k_q8KlS-J_Gb"
   },
   "outputs": [],
   "source": [
    "Record.groupby([\"churn\"])[\"months\"].mean()"
   ]
  },
  {
   "cell_type": "code",
   "execution_count": null,
   "metadata": {
    "id": "FSml9LQ6K0Gj"
   },
   "outputs": [],
   "source": [
    "Record.groupby([\"churn\"])[\"months\"].median()"
   ]
  },
  {
   "cell_type": "code",
   "execution_count": null,
   "metadata": {
    "id": "Gb9mz71bLCK-"
   },
   "outputs": [],
   "source": [
    "sns.barplot(x='churn', y='months', data=Record, estimator=np.median)"
   ]
  },
  {
   "cell_type": "code",
   "execution_count": null,
   "metadata": {
    "id": "zaqnjUSKLNc2"
   },
   "outputs": [],
   "source": [
    "Record.groupby([\"churn\"])[\"months\"].plot.hist(bins=20, alpha=0.5, legend=True)"
   ]
  },
  {
   "cell_type": "code",
   "execution_count": null,
   "metadata": {
    "id": "eC3rrL9qLbE2"
   },
   "outputs": [],
   "source": [
    "s, pvalue = stats.mannwhitneyu(Record[Record[\"churn\"]==1][\"months\"]\n",
    "                , Record[Record[\"churn\"]==0][\"months\"]\n",
    "                ,alternative='two-sided')\n",
    "pvalue < 0.05"
   ]
  },
  {
   "cell_type": "code",
   "execution_count": null,
   "metadata": {
    "id": "YKaAA4U0L23E"
   },
   "outputs": [],
   "source": [
    "Record.groupby([\"churn\"])[\"mou_Mean\"].mean()"
   ]
  },
  {
   "cell_type": "code",
   "execution_count": null,
   "metadata": {
    "id": "KsS8Yt3vL_bX"
   },
   "outputs": [],
   "source": [
    "Record.groupby([\"churn\"])[\"mou_Mean\"].median()"
   ]
  },
  {
   "cell_type": "code",
   "execution_count": null,
   "metadata": {
    "id": "pEuwcqbXMG70"
   },
   "outputs": [],
   "source": [
    "sns.barplot(x='churn', y='mou_Mean', data=Record, estimator=np.median)"
   ]
  },
  {
   "cell_type": "code",
   "execution_count": null,
   "metadata": {
    "id": "xTtIzRm6MO2G"
   },
   "outputs": [],
   "source": [
    "Record.groupby([\"churn\"])[\"mou_Mean\"].plot.hist(bins=20, alpha=0.5, legend=True)"
   ]
  },
  {
   "cell_type": "code",
   "execution_count": null,
   "metadata": {
    "id": "3Nm5m85oMl4N"
   },
   "outputs": [],
   "source": [
    "s, pvalue = stats.mannwhitneyu(Record[Record[\"churn\"]==1][\"mou_Mean\"]\n",
    "                , Record[Record[\"churn\"]==0][\"mou_Mean\"]\n",
    "                ,alternative='two-sided')\n",
    "pvalue < 0.05"
   ]
  },
  {
   "cell_type": "code",
   "execution_count": null,
   "metadata": {
    "id": "CCdi_u5DOqhS"
   },
   "outputs": [],
   "source": [
    "Record.groupby([\"churn\"])[\"totmrc_Mean\"].mean()"
   ]
  },
  {
   "cell_type": "code",
   "execution_count": null,
   "metadata": {
    "id": "FSJRWSjpPEb-"
   },
   "outputs": [],
   "source": [
    "Record.groupby([\"churn\"])[\"totmrc_Mean\"].median()"
   ]
  },
  {
   "cell_type": "code",
   "execution_count": null,
   "metadata": {
    "id": "Ezgm8t_FPS2_"
   },
   "outputs": [],
   "source": [
    "sns.barplot(x='churn', y='totmrc_Mean', data=Record, estimator=np.median)"
   ]
  },
  {
   "cell_type": "code",
   "execution_count": null,
   "metadata": {
    "id": "a4vwx365PfZi"
   },
   "outputs": [],
   "source": [
    "Record.groupby([\"churn\"])[\"totmrc_Mean\"].plot.hist(bins=20, alpha=0.5, legend=True)"
   ]
  },
  {
   "cell_type": "code",
   "execution_count": null,
   "metadata": {
    "id": "6azlVo1eSNMM"
   },
   "outputs": [],
   "source": [
    "s, pvalue = stats.mannwhitneyu(Record[Record[\"churn\"]==1][\"totmrc_Mean\"]\n",
    "                , Record[Record[\"churn\"]==0][\"totmrc_Mean\"]\n",
    "                ,alternative='two-sided')\n",
    "pvalue < 0.05"
   ]
  },
  {
   "cell_type": "code",
   "execution_count": null,
   "metadata": {
    "id": "ya78dm0jPgny"
   },
   "outputs": [],
   "source": [
    "Record.groupby([\"churn\"])[\"change_rev\"].mean()"
   ]
  },
  {
   "cell_type": "code",
   "execution_count": null,
   "metadata": {
    "id": "eJAXLl3VSfsK"
   },
   "outputs": [],
   "source": [
    "Record.groupby([\"churn\"])[\"change_rev\"].median()"
   ]
  },
  {
   "cell_type": "code",
   "execution_count": null,
   "metadata": {
    "id": "OQLg3HViPhGW"
   },
   "outputs": [],
   "source": [
    "sns.barplot(x='churn', y='change_rev', data=Record, estimator=np.median)"
   ]
  },
  {
   "cell_type": "code",
   "execution_count": null,
   "metadata": {
    "id": "pXY2pg2xdQxI"
   },
   "outputs": [],
   "source": [
    "Record.groupby([\"churn\"])[\"change_rev\"].plot.hist(bins=20, alpha=0.5, legend=True)"
   ]
  },
  {
   "cell_type": "code",
   "execution_count": null,
   "metadata": {
    "id": "qArq5mYgdqVi"
   },
   "outputs": [],
   "source": [
    "s, pvalue = stats.mannwhitneyu(Record[Record[\"churn\"]==1][\"change_rev\"]\n",
    "                , Record[Record[\"churn\"]==0][\"change_rev\"]\n",
    "                ,alternative='two-sided')\n",
    "pvalue < 0.05"
   ]
  },
  {
   "cell_type": "code",
   "execution_count": null,
   "metadata": {
    "id": "87lgTtD_fX78"
   },
   "outputs": [],
   "source": [
    "Record.groupby([\"churn\"])[\"vceovr_Mean\"].mean()"
   ]
  },
  {
   "cell_type": "code",
   "execution_count": null,
   "metadata": {
    "id": "-vA25kWUfaBj"
   },
   "outputs": [],
   "source": [
    "Record.groupby([\"churn\"])[\"vceovr_Mean\"].median()"
   ]
  },
  {
   "cell_type": "code",
   "execution_count": null,
   "metadata": {
    "id": "CdbF6LcJfbaM"
   },
   "outputs": [],
   "source": [
    "sns.barplot(x='churn', y='vceovr_Mean', data=Record, estimator=np.median)"
   ]
  },
  {
   "cell_type": "code",
   "execution_count": null,
   "metadata": {
    "id": "pN-XshSvfcz7"
   },
   "outputs": [],
   "source": [
    "Record.groupby([\"churn\"])[\"vceovr_Mean\"].plot.hist(bins=20, alpha=0.5, legend=True)"
   ]
  },
  {
   "cell_type": "code",
   "execution_count": null,
   "metadata": {
    "id": "CwmjbyLmfjiq"
   },
   "outputs": [],
   "source": [
    "s, pvalue = stats.mannwhitneyu(Record[Record[\"churn\"]==1][\"vceovr_Mean\"]\n",
    "                , Record[Record[\"churn\"]==0][\"vceovr_Mean\"]\n",
    "                ,alternative='two-sided')\n",
    "pvalue < 0.05"
   ]
  },
  {
   "cell_type": "code",
   "execution_count": null,
   "metadata": {
    "id": "zmt9ALCHhY4P"
   },
   "outputs": [],
   "source": [
    "Record.groupby([\"churn\"])[\"rev_Mean\"].mean()"
   ]
  },
  {
   "cell_type": "code",
   "execution_count": null,
   "metadata": {
    "id": "sExqlmYghcHm"
   },
   "outputs": [],
   "source": [
    "Record.groupby([\"churn\"])[\"rev_Mean\"].median()"
   ]
  },
  {
   "cell_type": "code",
   "execution_count": null,
   "metadata": {
    "id": "Yg2aKJz1hfLn"
   },
   "outputs": [],
   "source": [
    "sns.barplot(x='churn', y='rev_Mean', data=Record, estimator=np.median)"
   ]
  },
  {
   "cell_type": "code",
   "execution_count": null,
   "metadata": {
    "id": "AMPQeWBzhhDW"
   },
   "outputs": [],
   "source": [
    "Record.groupby([\"churn\"])[\"rev_Mean\"].plot.hist(bins=20, alpha=0.5, legend=True)"
   ]
  },
  {
   "cell_type": "code",
   "execution_count": null,
   "metadata": {
    "id": "4qLmlYFwhiV2"
   },
   "outputs": [],
   "source": [
    "s, pvalue = stats.mannwhitneyu(Record[Record[\"churn\"]==1][\"rev_Mean\"]\n",
    "                , Record[Record[\"churn\"]==0][\"rev_Mean\"]\n",
    "                ,alternative='two-sided')\n",
    "pvalue < 0.05"
   ]
  },
  {
   "cell_type": "code",
   "execution_count": null,
   "metadata": {
    "colab": {
     "base_uri": "https://localhost:8080/",
     "height": 297
    },
    "executionInfo": {
     "elapsed": 7390,
     "status": "ok",
     "timestamp": 1674657330822,
     "user": {
      "displayName": "Yoshiki",
      "userId": "06793121807263079380"
     },
     "user_tz": -540
    },
    "id": "4YvrSjsJWpU7",
    "outputId": "10ca68e4-d8d2-4482-af93-ac98de443b80"
   },
   "outputs": [],
   "source": [
    "sns.barplot(x='churn', y='ovrrev_Mean', data=Record, estimator=np.median)"
   ]
  },
  {
   "cell_type": "code",
   "execution_count": null,
   "metadata": {
    "colab": {
     "base_uri": "https://localhost:8080/"
    },
    "executionInfo": {
     "elapsed": 368,
     "status": "ok",
     "timestamp": 1674657302252,
     "user": {
      "displayName": "Yoshiki",
      "userId": "06793121807263079380"
     },
     "user_tz": -540
    },
    "id": "3M-To4ElWSwN",
    "outputId": "d5fd2cd2-ad76-4078-a6d0-e3ead64b2db5"
   },
   "outputs": [],
   "source": [
    "s, pvalue = stats.mannwhitneyu(Record[Record[\"churn\"]==1][\"ovrrev_Mean\"]\n",
    "                , Record[Record[\"churn\"]==0][\"ovrrev_Mean\"]\n",
    "                ,alternative='two-sided')\n",
    "pvalue < 0.05"
   ]
  },
  {
   "cell_type": "code",
   "execution_count": null,
   "metadata": {
    "colab": {
     "base_uri": "https://localhost:8080/",
     "height": 297
    },
    "executionInfo": {
     "elapsed": 3713,
     "status": "ok",
     "timestamp": 1674658048786,
     "user": {
      "displayName": "Yoshiki",
      "userId": "06793121807263079380"
     },
     "user_tz": -540
    },
    "id": "EKx0DRX9ZB72",
    "outputId": "a2f3d761-b825-481e-e7b9-9b87d0e38076"
   },
   "outputs": [],
   "source": [
    "sns.barplot(x='churn', y='ovrmou_Mean', data=Record, estimator=np.median)\n"
   ]
  },
  {
   "cell_type": "code",
   "execution_count": null,
   "metadata": {
    "colab": {
     "base_uri": "https://localhost:8080/"
    },
    "executionInfo": {
     "elapsed": 271,
     "status": "ok",
     "timestamp": 1674658152178,
     "user": {
      "displayName": "Yoshiki",
      "userId": "06793121807263079380"
     },
     "user_tz": -540
    },
    "id": "4RQGiElSZgaS",
    "outputId": "4a25396b-3205-4525-eec8-94758c53f0e1"
   },
   "outputs": [],
   "source": [
    "s, pvalue = stats.mannwhitneyu(Record[Record[\"churn\"]==1][\"ovrrev_Mean\"]\n",
    "                , Record[Record[\"churn\"]==0][\"ovrrev_Mean\"]\n",
    "                ,alternative='two-sided')\n",
    "pvalue < 0.05"
   ]
  },
  {
   "cell_type": "code",
   "execution_count": null,
   "metadata": {
    "id": "bePQGa7qfDJj"
   },
   "outputs": [],
   "source": [
    "# ライブラリの読み込み\n",
    "from sklearn.model_selection import train_test_split\n",
    "from sklearn.preprocessing import StandardScaler\n",
    "from sklearn.metrics import roc_auc_score\n",
    "\n",
    "# 目的変数と説明変数に分割\n",
    "X = Record[[\"change_mou\", \"mou_Mean\", \"totmrc_Mean\", \"rev_Mean\", \"change_rev\", \"ovrmou_Mean\", \"ovrrev_Mean\", \"months\"]].values\n",
    "y = Record[\"churn\"].values\n",
    "\n",
    "# 標準化\n",
    "sc = StandardScaler()\n",
    "sc.fit(X)\n",
    "X_std = sc.transform(X)\n",
    "\n",
    "# 訓練データと評価データに分割\n",
    "X_train, X_valid, y_train, y_valid = train_test_split(X_std, y, test_size=0.3, stratify=y, random_state=0)"
   ]
  },
  {
   "cell_type": "code",
   "execution_count": null,
   "metadata": {
    "colab": {
     "base_uri": "https://localhost:8080/"
    },
    "executionInfo": {
     "elapsed": 599,
     "status": "ok",
     "timestamp": 1674736831049,
     "user": {
      "displayName": "Yoshiki",
      "userId": "06793121807263079380"
     },
     "user_tz": -540
    },
    "id": "dajZOlyf0A2h",
    "outputId": "a6ebdabb-aa1a-46f3-9fe5-73841cef9007"
   },
   "outputs": [],
   "source": [
    "# LGBMClassifier\n",
    "from lightgbm import LGBMClassifier\n",
    "\n",
    "lgb = LGBMClassifier(random_state=0)\n",
    "lgb.fit(X_train, y_train)\n",
    "\n",
    "lgb_train_pred = lgb.predict_proba(X_train)[:, 1]\n",
    "lgb_valid_pred = lgb.predict_proba(X_valid)[:, 1]\n",
    "print(f\"Train Score: {roc_auc_score(y_train, lgb_train_pred)}\")\n",
    "print(f\"Valid Score: {roc_auc_score(y_valid, lgb_valid_pred)}\")"
   ]
  },
  {
   "cell_type": "code",
   "execution_count": null,
   "metadata": {
    "colab": {
     "base_uri": "https://localhost:8080/"
    },
    "executionInfo": {
     "elapsed": 539,
     "status": "ok",
     "timestamp": 1674736838414,
     "user": {
      "displayName": "Yoshiki",
      "userId": "06793121807263079380"
     },
     "user_tz": -540
    },
    "id": "SmV_Q8bSNZwz",
    "outputId": "bdc81706-9c5e-4179-b5fa-c524a2148d29"
   },
   "outputs": [],
   "source": [
    "# テストデータに対する予測値の作成\n",
    "pred = lgb.predict(X_valid)\n",
    "pred"
   ]
  },
  {
   "cell_type": "code",
   "execution_count": null,
   "metadata": {
    "colab": {
     "base_uri": "https://localhost:8080/",
     "height": 424
    },
    "executionInfo": {
     "elapsed": 48,
     "status": "ok",
     "timestamp": 1674736840428,
     "user": {
      "displayName": "Yoshiki",
      "userId": "06793121807263079380"
     },
     "user_tz": -540
    },
    "id": "AnWLBsRlNddl",
    "outputId": "54e73a29-7020-4624-ea28-d5ac881c247d"
   },
   "outputs": [],
   "source": [
    "cust = pd.DataFrame()\n",
    "cust['churn'] = pred\n",
    "cust['churn']\n",
    "cust[cust['churn']==1]"
   ]
  },
  {
   "cell_type": "code",
   "execution_count": null,
   "metadata": {
    "colab": {
     "base_uri": "https://localhost:8080/",
     "height": 484
    },
    "executionInfo": {
     "elapsed": 462,
     "status": "ok",
     "timestamp": 1674736944776,
     "user": {
      "displayName": "Yoshiki",
      "userId": "06793121807263079380"
     },
     "user_tz": -540
    },
    "id": "K3BbWImGEoVf",
    "outputId": "a48ec4f8-193c-4b71-ff92-9384f40b93d9"
   },
   "outputs": [],
   "source": [
    "f,ax=plt.subplots(1,1,figsize=(18,8))\n",
    "cust['churn'].value_counts().plot.pie(explode=[0,0.1],labels=Labels,shadow=True)\n",
    "plt.title('')\n",
    "plt.ylabel('')"
   ]
  },
  {
   "cell_type": "code",
   "execution_count": null,
   "metadata": {
    "colab": {
     "base_uri": "https://localhost:8080/"
    },
    "executionInfo": {
     "elapsed": 402,
     "status": "ok",
     "timestamp": 1674737287462,
     "user": {
      "displayName": "Yoshiki",
      "userId": "06793121807263079380"
     },
     "user_tz": -540
    },
    "id": "gmZJp9q2Lf_B",
    "outputId": "746a8a3a-68f0-45b8-ab71-519e282f7510"
   },
   "outputs": [],
   "source": [
    "Record['now_charge'] = Record['rev_Mean'] - Record['ovrrev_Mean']\n",
    "Record['now_ovr_charge'] = Record['ovrrev_Mean']/Record['ovrmou_Mean']\n",
    "Record['nor_time'] = Record['mou_Mean'] - Record['ovrmou_Mean']\n",
    "Record['res_totmrc'] = Record['totmrc_Mean'] - Record['rev_Mean'] - Record['ovrrev_Mean']\n",
    "Record['now_charge'].median()"
   ]
  },
  {
   "cell_type": "code",
   "execution_count": null,
   "metadata": {
    "colab": {
     "base_uri": "https://localhost:8080/"
    },
    "executionInfo": {
     "elapsed": 37,
     "status": "ok",
     "timestamp": 1674737290447,
     "user": {
      "displayName": "Yoshiki",
      "userId": "06793121807263079380"
     },
     "user_tz": -540
    },
    "id": "CLF3CfuMLn8C",
    "outputId": "8c70443e-8540-4056-a072-92dc2995fe28"
   },
   "outputs": [],
   "source": [
    "Record['now_ovr_charge'].median()"
   ]
  },
  {
   "cell_type": "code",
   "execution_count": null,
   "metadata": {
    "colab": {
     "base_uri": "https://localhost:8080/"
    },
    "executionInfo": {
     "elapsed": 638,
     "status": "ok",
     "timestamp": 1674737304315,
     "user": {
      "displayName": "Yoshiki",
      "userId": "06793121807263079380"
     },
     "user_tz": -540
    },
    "id": "eZ9pclhPLqkr",
    "outputId": "a2e12b5d-dc2e-46a8-a562-9085770d4bd4"
   },
   "outputs": [],
   "source": [
    "Record['nor_time'].median()"
   ]
  },
  {
   "cell_type": "code",
   "execution_count": null,
   "metadata": {
    "id": "L4W6issvLvOi"
   },
   "outputs": [],
   "source": [
    "Record['new_charge'] = Record['now_charge'] - 3\n",
    "Record['new_ovr_charge'] = Record['now_ovr_charge'] - 0.15"
   ]
  },
  {
   "cell_type": "code",
   "execution_count": null,
   "metadata": {
    "id": "Oa-XGYeiL5I7"
   },
   "outputs": [],
   "source": [
    "Record['ovrrev_Mean'] = Record['new_ovr_charge']*Record['ovrmou_Mean']\n",
    "Record['rev_Mean'] = Record['new_charge'] + Record['ovrrev_Mean']\n",
    "Record['totmrc_Mean'] = Record['res_totmrc'] + Record['new_charge'] + Record['ovrrev_Mean']"
   ]
  },
  {
   "cell_type": "code",
   "execution_count": null,
   "metadata": {
    "id": "iUT-imipKLsj"
   },
   "outputs": [],
   "source": [
    "X = Record[[\"change_mou\", \"mou_Mean\", \"totmrc_Mean\", \"rev_Mean\", \"change_rev\", \"ovrmou_Mean\", \"ovrrev_Mean\", \"months\"]].values\n",
    "y = Record[\"churn\"].values\n",
    "\n",
    "# 訓練データと評価データに分割\n",
    "X_train, X_valid, y_train, y_valid = train_test_split(X, y, test_size=0.3, stratify=y, random_state=0)"
   ]
  },
  {
   "cell_type": "code",
   "execution_count": null,
   "metadata": {
    "colab": {
     "base_uri": "https://localhost:8080/"
    },
    "executionInfo": {
     "elapsed": 358,
     "status": "ok",
     "timestamp": 1674737317309,
     "user": {
      "displayName": "Yoshiki",
      "userId": "06793121807263079380"
     },
     "user_tz": -540
    },
    "id": "0zrd-tHecElP",
    "outputId": "82f8b906-b266-4a32-8439-de363144d459"
   },
   "outputs": [],
   "source": [
    "# テストデータに対する予測値の作成\n",
    "pred = lgb.predict(X_valid)\n",
    "pred"
   ]
  },
  {
   "cell_type": "code",
   "execution_count": null,
   "metadata": {
    "colab": {
     "base_uri": "https://localhost:8080/",
     "height": 424
    },
    "executionInfo": {
     "elapsed": 46,
     "status": "ok",
     "timestamp": 1674737319328,
     "user": {
      "displayName": "Yoshiki",
      "userId": "06793121807263079380"
     },
     "user_tz": -540
    },
    "id": "dLMKN_LYENEG",
    "outputId": "e8350b20-1be7-4b13-b0bf-7932b0798f73"
   },
   "outputs": [],
   "source": [
    "cust = pd.DataFrame()\n",
    "cust['churn'] = pred\n",
    "cust['churn']\n",
    "cust[cust['churn']==1]"
   ]
  },
  {
   "cell_type": "code",
   "execution_count": null,
   "metadata": {
    "colab": {
     "base_uri": "https://localhost:8080/",
     "height": 484
    },
    "executionInfo": {
     "elapsed": 1282,
     "status": "ok",
     "timestamp": 1674737340774,
     "user": {
      "displayName": "Yoshiki",
      "userId": "06793121807263079380"
     },
     "user_tz": -540
    },
    "id": "lZwYtadwPkoJ",
    "outputId": "287fa773-5ecb-4f23-b503-2cc6586f699a"
   },
   "outputs": [],
   "source": [
    "f,ax=plt.subplots(1,1,figsize=(18,8))\n",
    "cust['churn'].value_counts().plot.pie(explode=[0,0.1],labels=Labels,shadow=True)\n",
    "plt.title('')\n",
    "plt.ylabel('')"
   ]
  },
  {
   "cell_type": "code",
   "execution_count": null,
   "metadata": {
    "colab": {
     "base_uri": "https://localhost:8080/",
     "height": 300
    },
    "executionInfo": {
     "elapsed": 61,
     "status": "ok",
     "timestamp": 1674743061473,
     "user": {
      "displayName": "Yoshiki",
      "userId": "06793121807263079380"
     },
     "user_tz": -540
    },
    "id": "5MEP4aiLdfvF",
    "outputId": "5dc13f85-e4dc-407e-bd52-c9710cd43fe8"
   },
   "outputs": [],
   "source": [
    "Record[['now_charge', 'now_ovr_charge', 'nor_time']].describe()"
   ]
  },
  {
   "cell_type": "code",
   "execution_count": null,
   "metadata": {
    "colab": {
     "base_uri": "https://localhost:8080/",
     "height": 300
    },
    "executionInfo": {
     "elapsed": 40,
     "status": "ok",
     "timestamp": 1674744350260,
     "user": {
      "displayName": "Yoshiki",
      "userId": "06793121807263079380"
     },
     "user_tz": -540
    },
    "id": "_bNoFb1Uec2i",
    "outputId": "a8185568-e3be-4472-a74b-f0d006d12506"
   },
   "outputs": [],
   "source": [
    "df = pd.DataFrame()\n",
    "df['now_ovr_charge'] = Record['now_ovr_charge']\n",
    "df['ovrmou_Mean'] = Record['ovrmou_Mean']\n",
    "df['ovrrev_Mean'] = Record['ovrrev_Mean']\n",
    "df.dropna().describe()"
   ]
  },
  {
   "cell_type": "code",
   "execution_count": null,
   "metadata": {
    "colab": {
     "base_uri": "https://localhost:8080/"
    },
    "executionInfo": {
     "elapsed": 4,
     "status": "ok",
     "timestamp": 1674722644045,
     "user": {
      "displayName": "Yoshiki",
      "userId": "06793121807263079380"
     },
     "user_tz": -540
    },
    "id": "rytvh1_dPzii",
    "outputId": "c988e323-d87f-4d31-c4a4-e9a1f535705b"
   },
   "outputs": [],
   "source": [
    "Record['rev_Mean'].sum()"
   ]
  },
  {
   "cell_type": "code",
   "execution_count": null,
   "metadata": {
    "colab": {
     "base_uri": "https://localhost:8080/",
     "height": 206
    },
    "executionInfo": {
     "elapsed": 343,
     "status": "ok",
     "timestamp": 1674719714181,
     "user": {
      "displayName": "Yoshiki",
      "userId": "06793121807263079380"
     },
     "user_tz": -540
    },
    "id": "AXW_AJBL0JJc",
    "outputId": "b647fc22-8ffb-4034-851a-f73fa5cfed02"
   },
   "outputs": [],
   "source": [
    "Record[['charge1', 'ovr_charge', 'new_charge', 'new_ovr_charge']].head()"
   ]
  },
  {
   "cell_type": "code",
   "execution_count": null,
   "metadata": {
    "colab": {
     "base_uri": "https://localhost:8080/",
     "height": 206
    },
    "executionInfo": {
     "elapsed": 282,
     "status": "ok",
     "timestamp": 1674719715811,
     "user": {
      "displayName": "Yoshiki",
      "userId": "06793121807263079380"
     },
     "user_tz": -540
    },
    "id": "rqILozFB0bps",
    "outputId": "1ff3105f-ec5c-4088-b11b-aa1304831c14"
   },
   "outputs": [],
   "source": [
    "Record[['new_ovr_rev', 'ovrrev_Mean']].head()"
   ]
  },
  {
   "cell_type": "code",
   "execution_count": null,
   "metadata": {
    "colab": {
     "base_uri": "https://localhost:8080/"
    },
    "executionInfo": {
     "elapsed": 259,
     "status": "ok",
     "timestamp": 1674721864466,
     "user": {
      "displayName": "Yoshiki",
      "userId": "06793121807263079380"
     },
     "user_tz": -540
    },
    "id": "Z5x2QDqd1RFe",
    "outputId": "cc8381e6-dc35-480f-fe3e-a960ce2ff6ec"
   },
   "outputs": [],
   "source": [
    "Record['new_rev_Mean'] = Record['new_charge'] + Record['new_ovr_rev']\n",
    "Record['new_rev_Mean'].sum()"
   ]
  },
  {
   "cell_type": "code",
   "execution_count": null,
   "metadata": {
    "colab": {
     "base_uri": "https://localhost:8080/"
    },
    "executionInfo": {
     "elapsed": 3,
     "status": "ok",
     "timestamp": 1674719718033,
     "user": {
      "displayName": "Yoshiki",
      "userId": "06793121807263079380"
     },
     "user_tz": -540
    },
    "id": "kFE87mU9qnJS",
    "outputId": "0ba3241b-111f-4a9b-f0b6-c131a44e8b4e"
   },
   "outputs": [],
   "source": [
    "loss_sum = Record[Record[\"churn\"]==1]\n",
    "loss_sum['rev_Mean'].sum()\n",
    "get_sum = Record[Record[\"churn\"]==0]\n",
    "get_sum['rev_Mean'].sum()\n",
    "Record['rev_Mean'].sum()\n",
    "get_sum['ovrrev_Mean'].sum()\n",
    "loss_sum['ovrrev_Mean'].sum()\n",
    "Record['ovrrev_Mean'].sum()"
   ]
  }
 ],
 "metadata": {
  "colab": {
   "authorship_tag": "ABX9TyNY+xleQDynwhMBwVs+db6I",
   "mount_file_id": "1RM5RmJrJawtsG4Zxg1Zph-5PTmE0ILCy",
   "provenance": []
  },
  "kernelspec": {
   "display_name": "Python 3 (ipykernel)",
   "language": "python",
   "name": "python3"
  },
  "language_info": {
   "codemirror_mode": {
    "name": "ipython",
    "version": 3
   },
   "file_extension": ".py",
   "mimetype": "text/x-python",
   "name": "python",
   "nbconvert_exporter": "python",
   "pygments_lexer": "ipython3",
   "version": "3.8.15"
  }
 },
 "nbformat": 4,
 "nbformat_minor": 4
}
